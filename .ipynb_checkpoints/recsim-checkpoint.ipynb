{
 "cells": [
  {
   "cell_type": "code",
   "execution_count": 536,
   "metadata": {},
   "outputs": [],
   "source": [
    "import numpy as np\n",
    "import pandas as pd\n",
    "import random\n",
    "import matplotlib.pyplot as plt\n",
    "import seaborn as sns\n",
    "import numpy.random as npr\n",
    "np.set_printoptions(suppress=True)\n",
    "from IPython.display import clear_output\n",
    "#from numpy.random import npr"
   ]
  },
  {
   "cell_type": "code",
   "execution_count": 537,
   "metadata": {},
   "outputs": [],
   "source": [
    "# create number of parameter\n",
    "\n",
    "visit_count = 5000\n",
    "visit_id = 1\n",
    "user_id = 1 # visit_id is equal user_id for this assumption\n",
    "product_count = 300 # sub_group or group can be used in next phase\n",
    "product_sample = 15 # sample count of listed product for one visit\n",
    "product_list = np.arange(1,301)\n",
    "# create dataframe for transaction\n"
   ]
  },
  {
   "cell_type": "code",
   "execution_count": 538,
   "metadata": {},
   "outputs": [],
   "source": [
    "# generator function\n",
    "npr.seed(5)\n",
    "# define rank_score generator\n",
    "def rank_score_generator (products) :\n",
    "    rank_score = npr.rand(np.size(products))\n",
    "    rank_score = rank_score / rank_score.sum()\n",
    "    rank = (rank_score.argsort()[::-1].argsort()) + 1\n",
    "    return rank_score,rank\n",
    "\n",
    "def view_prob_and_status_generator (rank_score) :\n",
    "    view_prob = npr.rand (np.size(rank_score))\n",
    "    view_prob = view_prob / view_prob.sum()\n",
    "    view_status = np.random.randint(0,2,size = np.size(rank_score))\n",
    "    return view_prob,view_status\n",
    "\n",
    "def purchase_prob_and_status_generator (view_status):\n",
    "    clicked_products = np.where(view_status == 1)[0]\n",
    "    purchase_prob = npr.rand (np.size(clicked_products))\n",
    "    purchase_prob_all = np.zeros(np.size(view_status),dtype=float)\n",
    "    purchase_prob_all[clicked_products] = purchase_prob\n",
    "    purchase_prob_all = purchase_prob_all / purchase_prob_all.sum()\n",
    "    \n",
    "    purchase_status = np.random.randint(0,2,size = np.size(clicked_products)) # status for clicked products\n",
    "    purchase_status_all = np.zeros(np.size(view_status),dtype=float)\n",
    "    purchase_status_all[clicked_products] = purchase_status\n",
    "    \n",
    "    return purchase_prob_all,purchase_status_all\n"
   ]
  },
  {
   "cell_type": "code",
   "execution_count": 539,
   "metadata": {},
   "outputs": [
    {
     "data": {
      "text/html": [
       "<div>\n",
       "<style scoped>\n",
       "    .dataframe tbody tr th:only-of-type {\n",
       "        vertical-align: middle;\n",
       "    }\n",
       "\n",
       "    .dataframe tbody tr th {\n",
       "        vertical-align: top;\n",
       "    }\n",
       "\n",
       "    .dataframe thead th {\n",
       "        text-align: right;\n",
       "    }\n",
       "</style>\n",
       "<table border=\"1\" class=\"dataframe\">\n",
       "  <thead>\n",
       "    <tr style=\"text-align: right;\">\n",
       "      <th></th>\n",
       "      <th>visit_id</th>\n",
       "      <th>user_id</th>\n",
       "      <th>product_id</th>\n",
       "      <th>rank_score</th>\n",
       "      <th>rank</th>\n",
       "      <th>view_probability</th>\n",
       "      <th>view_status</th>\n",
       "      <th>purchase_probability</th>\n",
       "      <th>purchase_status</th>\n",
       "    </tr>\n",
       "  </thead>\n",
       "  <tbody>\n",
       "  </tbody>\n",
       "</table>\n",
       "</div>"
      ],
      "text/plain": [
       "Empty DataFrame\n",
       "Columns: [visit_id, user_id, product_id, rank_score, rank, view_probability, view_status, purchase_probability, purchase_status]\n",
       "Index: []"
      ]
     },
     "execution_count": 539,
     "metadata": {},
     "output_type": "execute_result"
    }
   ],
   "source": [
    "# create transactions table\n",
    "columns=['visit_id', 'user_id','product_id', 'rank_score', 'rank', 'view_probability', 'view_status', 'purchase_probability', 'purchase_status']\n",
    "dt_transaction = pd.DataFrame(columns=columns)\n",
    "dt_transaction"
   ]
  },
  {
   "cell_type": "code",
   "execution_count": 540,
   "metadata": {},
   "outputs": [],
   "source": [
    "\n",
    "for i in range(10):\n",
    "\n",
    " # create transactions matrix\n",
    " # add user_id and visit_id\n",
    " \n",
    " transactions =np.full((2, product_sample), visit_id)\n",
    " \n",
    " # add products\n",
    " \n",
    " products = npr.choice(product_list,product_sample)\n",
    " \n",
    " transactions = np.vstack(((transactions,products)))\n",
    " \n",
    " # add rank_score and rank\n",
    " \n",
    " rank_values = rank_score_generator(products)\n",
    " rank_score = rank_values[0]\n",
    " rank = rank_values[1]\n",
    " \n",
    " # combine arrays\n",
    " transactions = np.vstack(((transactions,rank_score,rank)))\n",
    " \n",
    " view_values = view_prob_and_status_generator(rank_score)\n",
    " view_prob = view_values[0]\n",
    " view_status = view_values[1]\n",
    " \n",
    " # combine arrays\n",
    " transactions = np.vstack(((transactions,view_prob,view_status)))\n",
    " \n",
    " purchase_values = purchase_prob_and_status_generator(view_status)\n",
    " purchase_prob = purchase_values[0]\n",
    " purchase_status = purchase_values[1]\n",
    " \n",
    " # combine arrays and create data frame\n",
    " transactions = np.vstack(((transactions,purchase_prob,purchase_status)))\n",
    " \n",
    " transactions = pd.DataFrame(np.around(transactions,decimals=2).transpose(),columns=columns)\n",
    " \n",
    " # append to main table\n",
    " \n",
    " dt_transaction=dt_transaction.append(transactions,ignore_index=True,sort=False)\n",
    " \n",
    " visit_id +=1 \n",
    " user_id +=1 \n"
   ]
  },
  {
   "cell_type": "code",
   "execution_count": 541,
   "metadata": {},
   "outputs": [],
   "source": [
    "## example metrics\n",
    "# PVR : Product View Rate\n",
    "pvr = dt_transaction['view_status'].sum() / dt_transaction['visit_id'].count() "
   ]
  }
 ],
 "metadata": {
  "kernelspec": {
   "display_name": "Python 3",
   "language": "python",
   "name": "python3"
  },
  "language_info": {
   "codemirror_mode": {
    "name": "ipython",
    "version": 3
   },
   "file_extension": ".py",
   "mimetype": "text/x-python",
   "name": "python",
   "nbconvert_exporter": "python",
   "pygments_lexer": "ipython3",
   "version": "3.6.8"
  }
 },
 "nbformat": 4,
 "nbformat_minor": 2
}
